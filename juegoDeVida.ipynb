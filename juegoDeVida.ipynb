{
 "cells": [
  {
   "cell_type": "markdown",
   "metadata": {},
   "source": [
    "# EL JUEGO DE LA VIDA"
   ]
  },
  {
   "cell_type": "markdown",
   "metadata": {},
   "source": [
    "## INTRODUCCION"
   ]
  },
  {
   "cell_type": "markdown",
   "metadata": {},
   "source": [
    "El juego de la vida se desarrolla sobre un tablero cuadriculado o rejilla que en principio se presupone que es infinito. Evidentemente, en la práctica eso no puede ser, pero basta con hacerlo suficientemente grande. Cada casilla de ese tablero puede estar libre u ocupada. Estos dos estados se suelen distinguir con distintos colores. Cada casilla de este tablero está pues rodeada a su vez por otras 8 casillas o celdas. "
   ]
  },
  {
   "cell_type": "markdown",
   "metadata": {},
   "source": [
    "## REGLAS"
   ]
  },
  {
   "cell_type": "markdown",
   "metadata": {},
   "source": [
    "El estado que tendrá una casilla en el siguiente turno se calcula siguiendo 3 reglas muy simples (como casi todos los juegos de Conway) pero que, sorprendentemente, pueden dar lugar a situaciones de enorme complejidad:"
   ]
  },
  {
   "cell_type": "markdown",
   "metadata": {},
   "source": [
    "1. Cualquier celda viva con menos de dos vecinos vivos muere, como si estuviera causada por la población insuficiente.    \n",
    "2. Cualquier célula viva con dos o tres vecinos vivos vive para la próxima generación.\n",
    "3. Cualquier celda viva con más de tres vecinos vivos muere, como por sobrepoblación.\n",
    "4. Cualquier celda muerta con exactamente tres vecinos vivos se convierte en una célula viva, como por reproducción.."
   ]
  },
  {
   "cell_type": "markdown",
   "metadata": {},
   "source": [
    "## EJEMPLO DE REGLAS"
   ]
  },
  {
   "cell_type": "markdown",
   "metadata": {},
   "source": [
    "![N|Solid](https://cdn.tutsplus.com/gamedev/authors/legacy/Stephane%20Beniak/2012/09/11/RulesDiagram.png)"
   ]
  },
  {
   "cell_type": "markdown",
   "metadata": {},
   "source": [
    "## IMPLEMENTACION EN PYTHON"
   ]
  },
  {
   "cell_type": "code",
   "execution_count": 64,
   "metadata": {},
   "outputs": [],
   "source": [
    "import numpy as np \n",
    "import matplotlib.pyplot as plt \n",
    "import matplotlib.patches as patches"
   ]
  },
  {
   "cell_type": "code",
   "execution_count": 65,
   "metadata": {},
   "outputs": [],
   "source": [
    "def exten(mat): \n",
    "    n = len(mat) \n",
    "    ex = np.zeros((n+2,n+2)) \n",
    "    ex[1:n+1,1:n+1] = mat \n",
    "    return ex"
   ]
  },
  {
   "cell_type": "code",
   "execution_count": 66,
   "metadata": {},
   "outputs": [],
   "source": [
    "def veci(i,j, ex): \n",
    "    return (ex[i,j-1] + ex[i,j+1] + ex[i-1,j-1] + (ex[i-1,j] + ex[i-1,j+1] + ex[i+1,j-1]) + (ex[i+1,j]+ ex[i+1,j+1]))"
   ]
  },
  {
   "cell_type": "code",
   "execution_count": 67,
   "metadata": {},
   "outputs": [],
   "source": [
    "def reglas(mat): \n",
    "    n = len(mat) \n",
    "    ex = exten(mat) \n",
    "    nmat = np.zeros((n,n)) \n",
    "    for i in range(1,n+1): \n",
    "        for j in range(1,n+1): \n",
    "            s = veci(i,j,ex) \n",
    "            if s>3 or s <=1: \n",
    "                nmat[i-1,j-1] = 0 \n",
    "            if s == 3 and mat[i-1,j-1]== 0: \n",
    "                nmat[i-1,j-1] = 1 \n",
    "            if (s == 3 or s== 2) and mat[i-1,j-1]== 1: \n",
    "                nmat[i-1,j-1] = 1 \n",
    "    return nmat"
   ]
  },
  {
   "cell_type": "code",
   "execution_count": 68,
   "metadata": {},
   "outputs": [],
   "source": [
    "def correr(n,ini): \n",
    "    pasos = [] \n",
    "    pasos.append(ini) \n",
    "    g = ini \n",
    "    for i in range(n): \n",
    "        g = reglas(g) \n",
    "        pasos.append(g) \n",
    "    return pasos"
   ]
  },
  {
   "cell_type": "code",
   "execution_count": 69,
   "metadata": {},
   "outputs": [],
   "source": [
    "init = np.zeros((34,34)) \n",
    "init[8,5] = 1 \n",
    "init[8,6] = 1 \n",
    "init[8,7] = 1 \n",
    "init[8,8] = 1 \n",
    "init[8,9] = 1 \n",
    "init[8,11] = 1 \n",
    "init[8,12] = 1 \n",
    "init[8,13] = 1 \n",
    "init[8,14] = 1 \n",
    "init[8,15] = 1\n",
    "init[8,16] = 1 \n",
    "init[8,17] = 1 \n",
    "init[8,18] = 1"
   ]
  },
  {
   "cell_type": "code",
   "execution_count": 91,
   "metadata": {},
   "outputs": [],
   "source": [
    "res = correr(5, init)"
   ]
  },
  {
   "cell_type": "code",
   "execution_count": 92,
   "metadata": {},
   "outputs": [],
   "source": [
    "def grafmat(mt): \n",
    "    n = len(mt) \n",
    "    dx = 1/n \n",
    "    pieces = [] \n",
    "    frame = patches.Rectangle( \n",
    "        (0.0, 0.0),1, 1, fill=False, edgecolor=\"white\",linewidth=2) \n",
    "    pieces.append(frame) \n",
    "    for j in range(n): \n",
    "        for i in range(n): \n",
    "            if mt[i,j]== 1: \n",
    "                p = patches.Rectangle( \n",
    "                    (j/n,(n-1-i)/n), dx,dx, edgecolor=\"Gray\", facecolor=\"black\", fill=True, linewidth=2 )\n",
    "                pieces.append(p) \n",
    "            if mt[i,j]== 0:\n",
    "                p = patches.Rectangle( \n",
    "                    (j/n,(n-1-i)/n), dx,dx, edgecolor=\"Gray\", fill=False,linewidth=2) \n",
    "                pieces.append(p) \n",
    "    return pieces"
   ]
  },
  {
   "cell_type": "code",
   "execution_count": 93,
   "metadata": {},
   "outputs": [],
   "source": [
    " def vermat(x): \n",
    "        ax1=plt.subplot(111,aspect='equal') \n",
    "        shape = grafmat(x) \n",
    "        for p in shape: ax1.add_patch(p) \n",
    "        plt.axis('off') \n",
    "        plt.show()"
   ]
  },
  {
   "cell_type": "code",
   "execution_count": 94,
   "metadata": {},
   "outputs": [
    {
     "data": {
      "image/png": "[encoded data removed]",
      "text/plain": [
       "<Figure size 432x288 with 1 Axes>"
      ]
     },
     "metadata": {
      "needs_background": "light"
     },
     "output_type": "display_data"
    }
   ],
   "source": [
    "vermat (res[3])"
   ]
  },
  {
   "cell_type": "code",
   "execution_count": 109,
   "metadata": {},
   "outputs": [],
   "source": [
    "def ver5(v,w,x,y,z): \n",
    "    fg = plt.figure(figsize=(20,4)) \n",
    "    adj = plt.subplots_adjust(hspace=0.4)\n",
    "    \n",
    "    ax0=plt.subplot(151,aspect='equal') \n",
    "    shape = grafmat(v) \n",
    "    for p in shape: ax0.add_patch(p) \n",
    "    plt.axis('off')\n",
    "    \n",
    "    ax1=plt.subplot(152,aspect='equal') \n",
    "    shape = grafmat(w) \n",
    "    for p in shape: ax1.add_patch(p) \n",
    "    plt.axis('off')\n",
    "    \n",
    "    ax2=plt.subplot(153,aspect='equal')  \n",
    "    shape = grafmat(x) \n",
    "    for p in shape: ax2.add_patch(p) \n",
    "    plt.axis('off')\n",
    "    \n",
    "    ax3=plt.subplot(154,aspect='equal') \n",
    "    shape = grafmat(y) \n",
    "    for p in shape: ax3.add_patch(p) \n",
    "    plt.axis('off')\n",
    "    \n",
    "    ax4=plt.subplot(155,aspect='equal') \n",
    "    shape = grafmat(z) \n",
    "    for p in shape: ax4.add_patch(p) \n",
    "    plt.axis('off')\n",
    "    plt.show()"
   ]
  },
  {
   "cell_type": "code",
   "execution_count": 117,
   "metadata": {},
   "outputs": [
    {
     "data": {
      "image/png": "[encoded data removed]",
      "text/plain": [
       "<Figure size 432x288 with 1 Axes>"
      ]
     },
     "metadata": {
      "needs_background": "light"
     },
     "output_type": "display_data"
    }
   ],
   "source": [
    "cor= correr(35, init)\n",
    "vermat(init)"
   ]
  },
  {
   "cell_type": "code",
   "execution_count": 118,
   "metadata": {},
   "outputs": [],
   "source": [
    "def base(): \n",
    "        Base = np.zeros((34,34)) \n",
    "        Base[2,2] = 1 \n",
    "        Base[2,4] = 1 \n",
    "        Base[2,6] = 1 \n",
    "        Base[4,2] = 1 \n",
    "        Base[4,4] = 1 \n",
    "        Base[4,6] = 1 \n",
    "        Base[6,2] = 1 \n",
    "        Base[6,4] = 1 \n",
    "        Base[6,6] = 1  \n",
    "        return Base"
   ]
  },
  {
   "cell_type": "code",
   "execution_count": 119,
   "metadata": {},
   "outputs": [],
   "source": [
    "m1 = base() \n",
    "m1[2,2] = 1 \n",
    "m1[2,3] = 1 \n",
    "m1[2,4] = 1 \n",
    "m1[3,2] = 1 \n",
    "m1[4,2] = 1 \n",
    "m1[5,2] = 1 \n",
    "m1[6,2] = 1 \n",
    "m1[6,3] = 1 \n",
    "m1[6,4] = 1\n",
    "\n",
    "m2 = base() \n",
    "m2[2,2] = 1 \n",
    "m2[2,3] = 1 \n",
    "m2[2,4] = 1  \n",
    "m2[3,2] = 1 \n",
    "m2[4,2] = 1 \n",
    "m2[5,2] = 1 \n",
    "m2[4,3] = 1 \n",
    "m2[4,4] = 1 \n",
    "m2[3,4] = 1\n",
    "m2[5,4] = 1\n",
    "m2[6,4] = 1\n",
    "m2[6,2] = 1\n",
    "\n",
    "m3 = base() \n",
    "m3[2,2] = 1 \n",
    "m3[2,3] = 1 \n",
    "m3[2,4] = 1  \n",
    "m3[3,2] = 1 \n",
    "m3[4,2] = 1 \n",
    "m3[5,2] = 1 \n",
    "m3[4,3] = 1 \n",
    "m3[4,4] = 1 \n",
    "m3[3,4] = 1\n",
    "m3[5,3] = 1\n",
    "m3[6,4] = 1\n",
    "m3[6,2] = 1\n",
    "\n",
    "m4 = base() \n",
    "m4[2,2] = 1 \n",
    "m4[3,2] = 1 \n",
    "m4[4,2] = 1 \n",
    "m4[5,2] = 1 \n",
    "m4[6,2] = 1 \n",
    "m4[6,3] = 1\n",
    "m4[6,4] = 1 \n",
    "\n",
    "m5 = base() \n",
    "m5[2,2] = 1 \n",
    "m5[2,3] = 1 \n",
    "m5[2,4] = 1 \n",
    "m5[3,2] = 1 \n",
    "m5[3,4] = 1 \n",
    "m5[4,2] = 1 \n",
    "m5[4,4] = 1 \n",
    "m5[5,2] = 1 \n",
    "m5[5,4] = 1\n",
    "m5[6,2] = 1 \n",
    "m5[6,3] = 1 \n",
    "m5[6,4] = 1 \n",
    " "
   ]
  },
  {
   "cell_type": "code",
   "execution_count": 120,
   "metadata": {},
   "outputs": [
    {
     "data": {
      "image/png": "[encoded data removed]",
      "text/plain": [
       "<Figure size 432x288 with 1 Axes>"
      ]
     },
     "metadata": {
      "needs_background": "light"
     },
     "output_type": "display_data"
    }
   ],
   "source": [
    "vermat (base())"
   ]
  },
  {
   "cell_type": "markdown",
   "metadata": {},
   "source": [
    "### VARIABLES DEL SISTEMA"
   ]
  },
  {
   "cell_type": "markdown",
   "metadata": {},
   "source": [
    "Los patrones que serviran de prueba para esta simulacion seran las 5 primero letras de mi nombre es decir CARLO, se ha escogido estos patrones para experimentar la relacion que tienen dichas letras."
   ]
  },
  {
   "cell_type": "code",
   "execution_count": 121,
   "metadata": {},
   "outputs": [
    {
     "data": {
      "image/png": "[encoded data removed]",
      "text/plain": [
       "<Figure size 1440x288 with 5 Axes>"
      ]
     },
     "metadata": {
      "needs_background": "light"
     },
     "output_type": "display_data"
    }
   ],
   "source": [
    "ver5 (m1,m2,m3,m4,m5)"
   ]
  },
  {
   "cell_type": "markdown",
   "metadata": {},
   "source": [
    "### BUCLE ITERATIVO"
   ]
  },
  {
   "cell_type": "code",
   "execution_count": 122,
   "metadata": {},
   "outputs": [
    {
     "name": "stdout",
     "output_type": "stream",
     "text": [
      "RESULTADOS\n"
     ]
    },
    {
     "data": {
      "image/png": "[encoded data removed]",
      "text/plain": [
       "<Figure size 1440x288 with 5 Axes>"
      ]
     },
     "metadata": {
      "needs_background": "light"
     },
     "output_type": "display_data"
    },
    {
     "data": {
      "image/png": "[encoded data removed]",
      "text/plain": [
       "<Figure size 1440x288 with 5 Axes>"
      ]
     },
     "metadata": {
      "needs_background": "light"
     },
     "output_type": "display_data"
    },
    {
     "data": {
      "image/png": "[encoded data removed]",
      "text/plain": [
       "<Figure size 1440x288 with 5 Axes>"
      ]
     },
     "metadata": {
      "needs_background": "light"
     },
     "output_type": "display_data"
    },
    {
     "data": {
      "image/png": "[encoded data removed]",
      "text/plain": [
       "<Figure size 1440x288 with 5 Axes>"
      ]
     },
     "metadata": {
      "needs_background": "light"
     },
     "output_type": "display_data"
    },
    {
     "data": {
      "image/png": "[encoded data removed]",
      "text/plain": [
       "<Figure size 1440x288 with 5 Axes>"
      ]
     },
     "metadata": {
      "needs_background": "light"
     },
     "output_type": "display_data"
    }
   ],
   "source": [
    "muestras = [m1,m2,m3,m4,m5] \n",
    "resultados = []\n",
    "for m in muestras: \n",
    "    r = correr(300, m) \n",
    "    resultados.append(r)\n",
    "    \n",
    "print(\"RESULTADOS\") \n",
    "\n",
    "\n",
    "i = 1 \n",
    "for r in resultados: \n",
    "    ver5 (r[len(r)-5],r[len(r)-4],r[len(r)-3],r[len(r)-2],r[len(r)-1]) \n",
    "                                                                                                                                        \n",
    "    i = i + 1"
   ]
  },
  {
   "cell_type": "markdown",
   "metadata": {},
   "source": [
    "### RUIDO"
   ]
  },
  {
   "cell_type": "code",
   "execution_count": 123,
   "metadata": {},
   "outputs": [
    {
     "name": "stdout",
     "output_type": "stream",
     "text": [
      "Muestra  5\n"
     ]
    },
    {
     "data": {
      "image/png": "[encoded data removed]",
      "text/plain": [
       "<Figure size 432x288 with 1 Axes>"
      ]
     },
     "metadata": {
      "needs_background": "light"
     },
     "output_type": "display_data"
    },
    {
     "data": {
      "image/png": "[encoded data removed]",
      "text/plain": [
       "<Figure size 432x288 with 1 Axes>"
      ]
     },
     "metadata": {
      "needs_background": "light"
     },
     "output_type": "display_data"
    }
   ],
   "source": [
    "import simpy \n",
    "import random \n",
    "import matplotlib.pyplot as pp\n",
    "\n",
    "dms={} \n",
    "dm={} \n",
    "j = 0 \n",
    "for r in resultados: \n",
    "    j = j + 1 \n",
    "    i = 0 \n",
    "    for m in r: \n",
    "        i = i + 1 \n",
    "        for fila in range(len(m)): \n",
    "            for columna in range(len(m)): \n",
    "                if m[fila][columna] == 1: \n",
    "                    if i in dm: \n",
    "                        dm[i]=dm[i]+1 \n",
    "                    else: \n",
    "                        dm[i]=1\n",
    "dms[j]=dm \n",
    "dm={}\n",
    "\n",
    "# Generamos la grafica \n",
    "for key, dicm in dms.items(): \n",
    "    print (\"Muestra \", key) \n",
    "    vermat (muestras[key-1]) \n",
    "    #print (dicm) \n",
    "    datos=sorted(dicm.items()) \n",
    "    x, y =zip(*datos) \n",
    "    pp.plot(x,y,linewidth=2,color='red') \n",
    "    pp.scatter(x,y,color='blue') \n",
    "    pp.grid(True) \n",
    "    pp.title(\"Muestra %s\" %(key)) \n",
    "    pp.xlabel('Interacciones') \n",
    "    pp.ylabel('Celulas Vivas')\n",
    "    pp.show()"
   ]
  }
 ],
 "metadata": {
  "kernelspec": {
   "display_name": "Python 3.7 simpy",
   "language": "python",
   "name": "cardososimulacion"
  },
  "language_info": {
   "codemirror_mode": {
    "name": "ipython",
    "version": 3
   },
   "file_extension": ".py",
   "mimetype": "text/x-python",
   "name": "python",
   "nbconvert_exporter": "python",
   "pygments_lexer": "ipython3",
   "version": "3.7.3"
  }
 },
 "nbformat": 4,
 "nbformat_minor": 2
}
